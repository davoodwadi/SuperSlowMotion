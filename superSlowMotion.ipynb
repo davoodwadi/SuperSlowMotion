{
 "cells": [
  {
   "cell_type": "markdown",
   "id": "54fd3b9b-29d9-4b36-bea1-4c0b9319308a",
   "metadata": {},
   "source": [
    "# Import packages"
   ]
  },
  {
   "cell_type": "code",
   "execution_count": 2,
   "id": "ec5380fa-6902-4acd-beb0-c82e65ac2d02",
   "metadata": {},
   "outputs": [],
   "source": [
    "import torch\n",
    "import numpy as np\n",
    "import cv2\n",
    "from PIL import Image\n",
    "from pathlib import Path\n",
    "from tqdm import tqdm\n",
    "import copy"
   ]
  },
  {
   "cell_type": "markdown",
   "id": "372fd6a4-f597-449a-bdad-bb2a0e313544",
   "metadata": {},
   "source": [
    "# Load the frame interpolation model"
   ]
  },
  {
   "cell_type": "code",
   "execution_count": 3,
   "id": "b52ad5f6-831b-4728-a10e-c24d2aa1e853",
   "metadata": {},
   "outputs": [],
   "source": [
    "device = torch.device('cuda')\n",
    "precision = torch.float16\n",
    "\n",
    "model = torch.jit.load('./check/film_net_fp16.pt', map_location='cpu')\n",
    "model.eval().to(device=device, dtype=precision);\n",
    "\n",
    "path = Path.cwd()"
   ]
  },
  {
   "cell_type": "markdown",
   "id": "de33698a-ed38-40d5-ac60-7988b3e58c02",
   "metadata": {},
   "source": [
    "# define the dataset class and interpolation function"
   ]
  },
  {
   "cell_type": "code",
   "execution_count": 4,
   "id": "1f99844b-3727-4c39-91f1-afffdfc73a58",
   "metadata": {},
   "outputs": [],
   "source": [
    "class image_data:\n",
    "    def __init__(self, video_path ='./sc_60.mp4'):\n",
    "        self.video_path = Path(video_path)\n",
    "        # Open the video file\n",
    "        print(self.video_path.as_posix())\n",
    "        self.cap = cv2.VideoCapture(self.video_path.as_posix())\n",
    "        # Loop through frames\n",
    "        self.fps = self.cap.get(cv2.CAP_PROP_FPS)\n",
    "        self.frame_count = int(self.cap.get(cv2.CAP_PROP_FRAME_COUNT))\n",
    "        print(f'frame_count: {self.frame_count}')\n",
    "    \n",
    "    def close(self):\n",
    "        # Release the video capture object and close the window\n",
    "        self.cap.release()\n",
    "        cv2.destroyAllWindows()\n",
    "    \n",
    "    def __getitem__(self, frame_number):\n",
    "        self.cap.set(cv2.CAP_PROP_POS_FRAMES, frame_number - 1)\n",
    "        ret, frame = self.cap.read()\n",
    "        if not ret:\n",
    "            print(\"Error: Couldn't read the specified frame.\")\n",
    "            return None\n",
    "        else:\n",
    "            frame = cv2.cvtColor(frame, cv2.COLOR_BGR2RGB)\n",
    "            return frame\n",
    "\n",
    "def interp_2frames(f1,f2, precision=torch.float16, device='cuda'):\n",
    "    img1 = (torch.from_numpy(f1)[None, ...].permute(0, 3, 1, 2)/255.).to(precision).to(device)\n",
    "    img2 = (torch.from_numpy(f2)[None, ...].permute(0, 3, 1, 2)/255.).to(precision).to(device)\n",
    "    dt = img1.new_full((1, 1), .5)    \n",
    "    with torch.no_grad():\n",
    "        imgmid = model(img1, img2, dt)  # Will be of the same shape as inputs (1, 3, h, w)\n",
    "    imgmid.clamp_(0,1); \n",
    "    img_np = imgmid[0].cpu().permute(1,2,0).to(torch.float32).numpy()\n",
    "    img_np_uint8 = (img_np * 255).astype(np.uint8)\n",
    "    \n",
    "    return img_np_uint8 # return the interpolated. Second frame returned in the next iteration\n",
    "\n",
    "def write_frames(new_frame_list, slow=False, save_index=0, initial_fps=30, initial_nframes=None):\n",
    "    if not slow:\n",
    "        final_nframes = len(new_frame_list)\n",
    "        # print(f'final_nframes: {final_nframes}')\n",
    "        # print(f'initial_nframes: {initial_nframes}')\n",
    "        # print(f'initial_fps: {initial_fps}')\n",
    "        fps_out = final_nframes/initial_nframes*initial_fps\n",
    "    else:\n",
    "        fps_out = initial_fps\n",
    "    print(f'fps_out: {fps_out}')\n",
    "    fourcc = cv2.VideoWriter_fourcc(*'XVID')  # You can also use 'XVID' or 'MJPG' as the codec\n",
    "    height, width = new_frame_list[0].shape[:2]  # Set the width and height of the video frames\n",
    "    video_writer = cv2.VideoWriter(f'output_video_{save_index}.avi', fourcc, fps_out, (width, height))\n",
    "    for f in new_frame_list:\n",
    "        # Write the frame to the video file\n",
    "        f = cv2.cvtColor(f, cv2.COLOR_RGB2BGR)\n",
    "        video_writer.write(f)\n",
    "    # Release the VideoWriter object\n",
    "    video_writer.release()\n",
    "    print(f\"Video has been written to 'output_video_{save_index}.avi'\")"
   ]
  },
  {
   "cell_type": "markdown",
   "id": "9d1bddfc-36dc-43de-8d38-4057f53f7892",
   "metadata": {},
   "source": [
    "# load the base video"
   ]
  },
  {
   "cell_type": "code",
   "execution_count": 5,
   "id": "c5785ee6-4735-4b0d-b15a-6ae2ea1add78",
   "metadata": {},
   "outputs": [
    {
     "name": "stdout",
     "output_type": "stream",
     "text": [
      "smile/output_video_2.mp4\n",
      "frame_count: 65\n"
     ]
    },
    {
     "data": {
      "text/plain": [
       "(65, 24.0, 2.7083333333333335)"
      ]
     },
     "execution_count": 5,
     "metadata": {},
     "output_type": "execute_result"
    }
   ],
   "source": [
    "video_path = Path('smile/output_video_2.mp4')\n",
    "images = image_data(video_path)\n",
    "images.frame_count, images.fps, images.frame_count/images.fps"
   ]
  },
  {
   "cell_type": "markdown",
   "id": "6d051a6b-ee85-4929-805b-35d0faa73ca3",
   "metadata": {},
   "source": [
    "# loop through the frames, interpolate, and save the result"
   ]
  },
  {
   "cell_type": "markdown",
   "id": "7f6c027b-0ab9-4ddc-863c-d89a1ec90b15",
   "metadata": {},
   "source": [
    "There will be $2 \\times n-1$ frames, where $n$ is the number of original frames."
   ]
  },
  {
   "cell_type": "code",
   "execution_count": 9,
   "id": "f2af2e83-67f1-4f5e-8764-33051acf879d",
   "metadata": {},
   "outputs": [
    {
     "name": "stdout",
     "output_type": "stream",
     "text": [
      "fps_out: 54.060340000000004\n"
     ]
    },
    {
     "name": "stderr",
     "output_type": "stream",
     "text": [
      "100%|████████████████████████████████████████| 101/101 [02:29<00:00,  1.48s/it]"
     ]
    },
    {
     "name": "stdout",
     "output_type": "stream",
     "text": [
      "Video has been written to 'generated_svd_2_0_1_1.avi'\n"
     ]
    },
    {
     "name": "stderr",
     "output_type": "stream",
     "text": [
      "\n"
     ]
    }
   ],
   "source": [
    "save_index = 1\n",
    "slow=True\n",
    "if not slow:\n",
    "    final_nframes = (images.frame_count*2)-1\n",
    "    fps_out = final_nframes/images.frame_count*images.fps\n",
    "else:\n",
    "    fps_out = images.fps\n",
    "print(f'fps_out: {fps_out}')\n",
    "fourcc = cv2.VideoWriter_fourcc(*'XVID')  # You can also use 'XVID' or 'MJPG' as the codec\n",
    "height, width = images[0].shape[:2]  # Set the width and height of the video frames\n",
    "video_writer = cv2.VideoWriter(f'{video_path.stem}_{save_index}.avi', fourcc, fps_out, (width, height))\n",
    "\n",
    "# new_frames = []\n",
    "for i in tqdm(range(images.frame_count+1)):\n",
    "    f1 = images[i]\n",
    "    if i==images.frame_count: # last frame\n",
    "        f2 = images[0] # make loopable\n",
    "    else:\n",
    "        f2 = images[i+1]\n",
    "    if f2 is None:\n",
    "        f1 = cv2.cvtColor(f1, cv2.COLOR_RGB2BGR)\n",
    "        video_writer.write(f1)\n",
    "        \n",
    "        continue\n",
    "    \n",
    "    if (f1==f2).all(): continue\n",
    "    \n",
    "    f_interp = interp_2frames(f1, f2)\n",
    "    f1 = cv2.cvtColor(f1, cv2.COLOR_RGB2BGR)\n",
    "    f_interp = cv2.cvtColor(f_interp, cv2.COLOR_RGB2BGR)\n",
    "\n",
    "    video_writer.write(f1)\n",
    "    video_writer.write(f_interp)\n",
    "    \n",
    "images.close()\n",
    "video_writer.release()\n",
    "print(f\"Video has been written to '{video_path.stem}_{save_index}.avi'\")"
   ]
  },
  {
   "cell_type": "code",
   "execution_count": 159,
   "id": "3ee07644-f071-4b2f-9fe9-dd5bc85df040",
   "metadata": {},
   "outputs": [
    {
     "data": {
      "text/plain": [
       "2.0"
      ]
     },
     "execution_count": 159,
     "metadata": {},
     "output_type": "execute_result"
    }
   ],
   "source": [
    "images.fps"
   ]
  }
 ],
 "metadata": {
  "kernelspec": {
   "display_name": "Python 3 (ipykernel)",
   "language": "python",
   "name": "python3"
  },
  "language_info": {
   "codemirror_mode": {
    "name": "ipython",
    "version": 3
   },
   "file_extension": ".py",
   "mimetype": "text/x-python",
   "name": "python",
   "nbconvert_exporter": "python",
   "pygments_lexer": "ipython3",
   "version": "3.10.13"
  }
 },
 "nbformat": 4,
 "nbformat_minor": 5
}
